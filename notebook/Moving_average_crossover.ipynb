{
 "cells": [
  {
   "cell_type": "markdown",
   "metadata": {},
   "source": [
    "## Moving Average Crossover\n",
    "\n",
    "    In this notebook we will create a simple trading strategy using moving average crossover strategy. There are two kinds of signal we will be looking into for crossover strategy!\n",
    "    a. Slow Signal: Moving average of relatively longer time period\n",
    "    b. Fast Signal: Moving average of relatively shorter time period\n",
    "    \n",
    "**example:**\n",
    "\n",
    "__1. M.A.(10 days) is fast signal when compared with M.A.(50 days)__\n",
    "\n",
    "__2. M.A.(50 days) is fast signal when compared with M.A.(200 days)__   \n",
    "\n",
    "        \n",
    "    If fast signal cross over slow signal and is higher, we will buy the stock.\n",
    "    If slow signal goes above fast signal we will sell the stock. \n",
    "    \n",
    "    Note: If the fast signal is already above the slow signal, we won't enter the trade!"
   ]
  },
  {
   "cell_type": "code",
   "execution_count": 1,
   "metadata": {},
   "outputs": [],
   "source": [
    "import numpy as np\n",
    "import pandas as pd\n",
    "import matplotlib.pyplot as plt\n",
    "%matplotlib inline"
   ]
  },
  {
   "cell_type": "markdown",
   "metadata": {},
   "source": [
    "##### Checking Apple stock OHLC, Adj Close and volume "
   ]
  },
  {
   "cell_type": "code",
   "execution_count": 4,
   "metadata": {},
   "outputs": [
    {
     "data": {
      "text/html": [
       "<div>\n",
       "<style scoped>\n",
       "    .dataframe tbody tr th:only-of-type {\n",
       "        vertical-align: middle;\n",
       "    }\n",
       "\n",
       "    .dataframe tbody tr th {\n",
       "        vertical-align: top;\n",
       "    }\n",
       "\n",
       "    .dataframe thead th {\n",
       "        text-align: right;\n",
       "    }\n",
       "</style>\n",
       "<table border=\"1\" class=\"dataframe\">\n",
       "  <thead>\n",
       "    <tr style=\"text-align: right;\">\n",
       "      <th></th>\n",
       "      <th>Date</th>\n",
       "      <th>Open</th>\n",
       "      <th>High</th>\n",
       "      <th>Low</th>\n",
       "      <th>Close</th>\n",
       "      <th>Adj Close</th>\n",
       "      <th>Volume</th>\n",
       "    </tr>\n",
       "  </thead>\n",
       "  <tbody>\n",
       "    <tr>\n",
       "      <th>0</th>\n",
       "      <td>2018-12-31</td>\n",
       "      <td>158.529999</td>\n",
       "      <td>159.360001</td>\n",
       "      <td>156.479996</td>\n",
       "      <td>157.740005</td>\n",
       "      <td>154.618546</td>\n",
       "      <td>35003500</td>\n",
       "    </tr>\n",
       "    <tr>\n",
       "      <th>1</th>\n",
       "      <td>2019-01-02</td>\n",
       "      <td>154.889999</td>\n",
       "      <td>158.850006</td>\n",
       "      <td>154.229996</td>\n",
       "      <td>157.919998</td>\n",
       "      <td>154.794983</td>\n",
       "      <td>37039700</td>\n",
       "    </tr>\n",
       "  </tbody>\n",
       "</table>\n",
       "</div>"
      ],
      "text/plain": [
       "         Date        Open        High         Low       Close   Adj Close  \\\n",
       "0  2018-12-31  158.529999  159.360001  156.479996  157.740005  154.618546   \n",
       "1  2019-01-02  154.889999  158.850006  154.229996  157.919998  154.794983   \n",
       "\n",
       "     Volume  \n",
       "0  35003500  \n",
       "1  37039700  "
      ]
     },
     "execution_count": 4,
     "metadata": {},
     "output_type": "execute_result"
    }
   ],
   "source": [
    "aapl = pd.read_csv('S&P500/2019_2020/AAPL_2019-01-01_2020-06-01.csv')\n",
    "aapl.head(2)"
   ]
  },
  {
   "cell_type": "markdown",
   "metadata": {},
   "source": [
    "##### Step 1: Adding fast and slow signal into the dataframe !\n",
    "\n",
    "\n",
    "Note: We will be using 10 period and 50 period moving average as fast and slow signal"
   ]
  },
  {
   "cell_type": "code",
   "execution_count": 8,
   "metadata": {},
   "outputs": [
    {
     "data": {
      "text/html": [
       "<div>\n",
       "<style scoped>\n",
       "    .dataframe tbody tr th:only-of-type {\n",
       "        vertical-align: middle;\n",
       "    }\n",
       "\n",
       "    .dataframe tbody tr th {\n",
       "        vertical-align: top;\n",
       "    }\n",
       "\n",
       "    .dataframe thead th {\n",
       "        text-align: right;\n",
       "    }\n",
       "</style>\n",
       "<table border=\"1\" class=\"dataframe\">\n",
       "  <thead>\n",
       "    <tr style=\"text-align: right;\">\n",
       "      <th></th>\n",
       "      <th>Date</th>\n",
       "      <th>Open</th>\n",
       "      <th>High</th>\n",
       "      <th>Low</th>\n",
       "      <th>Close</th>\n",
       "      <th>Adj Close</th>\n",
       "      <th>Volume</th>\n",
       "      <th>MA10</th>\n",
       "      <th>MA50</th>\n",
       "    </tr>\n",
       "  </thead>\n",
       "  <tbody>\n",
       "    <tr>\n",
       "      <th>0</th>\n",
       "      <td>2018-12-31</td>\n",
       "      <td>158.529999</td>\n",
       "      <td>159.360001</td>\n",
       "      <td>156.479996</td>\n",
       "      <td>157.740005</td>\n",
       "      <td>154.618546</td>\n",
       "      <td>35003500</td>\n",
       "      <td>NaN</td>\n",
       "      <td>NaN</td>\n",
       "    </tr>\n",
       "    <tr>\n",
       "      <th>1</th>\n",
       "      <td>2019-01-02</td>\n",
       "      <td>154.889999</td>\n",
       "      <td>158.850006</td>\n",
       "      <td>154.229996</td>\n",
       "      <td>157.919998</td>\n",
       "      <td>154.794983</td>\n",
       "      <td>37039700</td>\n",
       "      <td>NaN</td>\n",
       "      <td>NaN</td>\n",
       "    </tr>\n",
       "  </tbody>\n",
       "</table>\n",
       "</div>"
      ],
      "text/plain": [
       "         Date        Open        High         Low       Close   Adj Close  \\\n",
       "0  2018-12-31  158.529999  159.360001  156.479996  157.740005  154.618546   \n",
       "1  2019-01-02  154.889999  158.850006  154.229996  157.919998  154.794983   \n",
       "\n",
       "     Volume  MA10  MA50  \n",
       "0  35003500   NaN   NaN  \n",
       "1  37039700   NaN   NaN  "
      ]
     },
     "execution_count": 8,
     "metadata": {},
     "output_type": "execute_result"
    }
   ],
   "source": [
    "aapl['MA10'] = aapl['Close'].rolling(10).mean()\n",
    "aapl['MA50'] = aapl['Close'].rolling(50).mean()\n",
    "aapl.head(2)"
   ]
  },
  {
   "cell_type": "markdown",
   "metadata": {},
   "source": [
    "##### Step 2: Dropping all NaN values rows from MA10 and MA50"
   ]
  },
  {
   "cell_type": "code",
   "execution_count": 9,
   "metadata": {},
   "outputs": [
    {
     "data": {
      "text/html": [
       "<div>\n",
       "<style scoped>\n",
       "    .dataframe tbody tr th:only-of-type {\n",
       "        vertical-align: middle;\n",
       "    }\n",
       "\n",
       "    .dataframe tbody tr th {\n",
       "        vertical-align: top;\n",
       "    }\n",
       "\n",
       "    .dataframe thead th {\n",
       "        text-align: right;\n",
       "    }\n",
       "</style>\n",
       "<table border=\"1\" class=\"dataframe\">\n",
       "  <thead>\n",
       "    <tr style=\"text-align: right;\">\n",
       "      <th></th>\n",
       "      <th>Date</th>\n",
       "      <th>Open</th>\n",
       "      <th>High</th>\n",
       "      <th>Low</th>\n",
       "      <th>Close</th>\n",
       "      <th>Adj Close</th>\n",
       "      <th>Volume</th>\n",
       "      <th>MA10</th>\n",
       "      <th>MA50</th>\n",
       "    </tr>\n",
       "  </thead>\n",
       "  <tbody>\n",
       "    <tr>\n",
       "      <th>49</th>\n",
       "      <td>2019-03-13</td>\n",
       "      <td>182.250000</td>\n",
       "      <td>183.300003</td>\n",
       "      <td>180.919998</td>\n",
       "      <td>181.710007</td>\n",
       "      <td>178.878098</td>\n",
       "      <td>31032500</td>\n",
       "      <td>176.095001</td>\n",
       "      <td>164.9172</td>\n",
       "    </tr>\n",
       "    <tr>\n",
       "      <th>50</th>\n",
       "      <td>2019-03-14</td>\n",
       "      <td>183.899994</td>\n",
       "      <td>184.100006</td>\n",
       "      <td>182.559998</td>\n",
       "      <td>183.729996</td>\n",
       "      <td>180.866608</td>\n",
       "      <td>23579500</td>\n",
       "      <td>177.153001</td>\n",
       "      <td>165.4370</td>\n",
       "    </tr>\n",
       "  </tbody>\n",
       "</table>\n",
       "</div>"
      ],
      "text/plain": [
       "          Date        Open        High         Low       Close   Adj Close  \\\n",
       "49  2019-03-13  182.250000  183.300003  180.919998  181.710007  178.878098   \n",
       "50  2019-03-14  183.899994  184.100006  182.559998  183.729996  180.866608   \n",
       "\n",
       "      Volume        MA10      MA50  \n",
       "49  31032500  176.095001  164.9172  \n",
       "50  23579500  177.153001  165.4370  "
      ]
     },
     "execution_count": 9,
     "metadata": {},
     "output_type": "execute_result"
    }
   ],
   "source": [
    "aapl = aapl.dropna()\n",
    "aapl.head(2)"
   ]
  },
  {
   "cell_type": "markdown",
   "metadata": {},
   "source": [
    "##### Step 3 : Add a new column \"Shares\".\n",
    "\n",
    "    If MA10>MA50, denote as 1 (long one share of stock), otherwise, denote as 0 (do nothing)"
   ]
  },
  {
   "cell_type": "code",
   "execution_count": 11,
   "metadata": {},
   "outputs": [
    {
     "data": {
      "text/html": [
       "<div>\n",
       "<style scoped>\n",
       "    .dataframe tbody tr th:only-of-type {\n",
       "        vertical-align: middle;\n",
       "    }\n",
       "\n",
       "    .dataframe tbody tr th {\n",
       "        vertical-align: top;\n",
       "    }\n",
       "\n",
       "    .dataframe thead th {\n",
       "        text-align: right;\n",
       "    }\n",
       "</style>\n",
       "<table border=\"1\" class=\"dataframe\">\n",
       "  <thead>\n",
       "    <tr style=\"text-align: right;\">\n",
       "      <th></th>\n",
       "      <th>Date</th>\n",
       "      <th>Open</th>\n",
       "      <th>High</th>\n",
       "      <th>Low</th>\n",
       "      <th>Close</th>\n",
       "      <th>Adj Close</th>\n",
       "      <th>Volume</th>\n",
       "      <th>MA10</th>\n",
       "      <th>MA50</th>\n",
       "      <th>Shares</th>\n",
       "    </tr>\n",
       "  </thead>\n",
       "  <tbody>\n",
       "    <tr>\n",
       "      <th>49</th>\n",
       "      <td>2019-03-13</td>\n",
       "      <td>182.250000</td>\n",
       "      <td>183.300003</td>\n",
       "      <td>180.919998</td>\n",
       "      <td>181.710007</td>\n",
       "      <td>178.878098</td>\n",
       "      <td>31032500</td>\n",
       "      <td>176.095001</td>\n",
       "      <td>164.9172</td>\n",
       "      <td>1</td>\n",
       "    </tr>\n",
       "    <tr>\n",
       "      <th>50</th>\n",
       "      <td>2019-03-14</td>\n",
       "      <td>183.899994</td>\n",
       "      <td>184.100006</td>\n",
       "      <td>182.559998</td>\n",
       "      <td>183.729996</td>\n",
       "      <td>180.866608</td>\n",
       "      <td>23579500</td>\n",
       "      <td>177.153001</td>\n",
       "      <td>165.4370</td>\n",
       "      <td>1</td>\n",
       "    </tr>\n",
       "  </tbody>\n",
       "</table>\n",
       "</div>"
      ],
      "text/plain": [
       "          Date        Open        High         Low       Close   Adj Close  \\\n",
       "49  2019-03-13  182.250000  183.300003  180.919998  181.710007  178.878098   \n",
       "50  2019-03-14  183.899994  184.100006  182.559998  183.729996  180.866608   \n",
       "\n",
       "      Volume        MA10      MA50  Shares  \n",
       "49  31032500  176.095001  164.9172       1  \n",
       "50  23579500  177.153001  165.4370       1  "
      ]
     },
     "execution_count": 11,
     "metadata": {},
     "output_type": "execute_result"
    }
   ],
   "source": [
    "aapl['Shares'] = [1 if aapl.loc[ei, 'MA10']>aapl.loc[ei, 'MA50'] else 0 for ei in aapl.index]\n",
    "aapl.head(2)"
   ]
  },
  {
   "cell_type": "markdown",
   "metadata": {},
   "source": [
    "##### Step 4 : Restrucuring such that if shares == 1 then edit dataframe !!\n",
    "    \n",
    "    Note: If the fast signal is already above the slow signal, we will cut the dataframe such that the starting point is when Shares == 0"
   ]
  },
  {
   "cell_type": "code",
   "execution_count": 12,
   "metadata": {},
   "outputs": [
    {
     "data": {
      "text/html": [
       "<div>\n",
       "<style scoped>\n",
       "    .dataframe tbody tr th:only-of-type {\n",
       "        vertical-align: middle;\n",
       "    }\n",
       "\n",
       "    .dataframe tbody tr th {\n",
       "        vertical-align: top;\n",
       "    }\n",
       "\n",
       "    .dataframe thead th {\n",
       "        text-align: right;\n",
       "    }\n",
       "</style>\n",
       "<table border=\"1\" class=\"dataframe\">\n",
       "  <thead>\n",
       "    <tr style=\"text-align: right;\">\n",
       "      <th></th>\n",
       "      <th>Date</th>\n",
       "      <th>Open</th>\n",
       "      <th>High</th>\n",
       "      <th>Low</th>\n",
       "      <th>Close</th>\n",
       "      <th>Adj Close</th>\n",
       "      <th>Volume</th>\n",
       "      <th>MA10</th>\n",
       "      <th>MA50</th>\n",
       "      <th>Shares</th>\n",
       "    </tr>\n",
       "  </thead>\n",
       "  <tbody>\n",
       "    <tr>\n",
       "      <th>96</th>\n",
       "      <td>2019-05-20</td>\n",
       "      <td>183.520004</td>\n",
       "      <td>184.350006</td>\n",
       "      <td>180.279999</td>\n",
       "      <td>183.089996</td>\n",
       "      <td>180.930695</td>\n",
       "      <td>38612300</td>\n",
       "      <td>193.112999</td>\n",
       "      <td>195.6952</td>\n",
       "      <td>0</td>\n",
       "    </tr>\n",
       "    <tr>\n",
       "      <th>97</th>\n",
       "      <td>2019-05-21</td>\n",
       "      <td>185.220001</td>\n",
       "      <td>188.000000</td>\n",
       "      <td>184.699997</td>\n",
       "      <td>186.600006</td>\n",
       "      <td>184.399307</td>\n",
       "      <td>28364800</td>\n",
       "      <td>191.487000</td>\n",
       "      <td>195.8492</td>\n",
       "      <td>0</td>\n",
       "    </tr>\n",
       "  </tbody>\n",
       "</table>\n",
       "</div>"
      ],
      "text/plain": [
       "          Date        Open        High         Low       Close   Adj Close  \\\n",
       "96  2019-05-20  183.520004  184.350006  180.279999  183.089996  180.930695   \n",
       "97  2019-05-21  185.220001  188.000000  184.699997  186.600006  184.399307   \n",
       "\n",
       "      Volume        MA10      MA50  Shares  \n",
       "96  38612300  193.112999  195.6952       0  \n",
       "97  28364800  191.487000  195.8492       0  "
      ]
     },
     "execution_count": 12,
     "metadata": {},
     "output_type": "execute_result"
    }
   ],
   "source": [
    "if aapl.iloc[0,-1] == 1:\n",
    "    for i in range(len(aapl)):\n",
    "        if aapl.iloc[i, -1] == 0:\n",
    "            aapl = aapl.iloc[i:, :]\n",
    "            break\n",
    "            \n",
    "aapl.head(2)"
   ]
  },
  {
   "cell_type": "markdown",
   "metadata": {},
   "source": [
    "##### Step 5 : Calculating Profit !!\n",
    "    Note: Profit is 0 if Shares = 0, i.e we aren't involved in any trading once Fast signal is below Slow signal!"
   ]
  },
  {
   "cell_type": "code",
   "execution_count": 15,
   "metadata": {},
   "outputs": [
    {
     "data": {
      "text/html": [
       "<div>\n",
       "<style scoped>\n",
       "    .dataframe tbody tr th:only-of-type {\n",
       "        vertical-align: middle;\n",
       "    }\n",
       "\n",
       "    .dataframe tbody tr th {\n",
       "        vertical-align: top;\n",
       "    }\n",
       "\n",
       "    .dataframe thead th {\n",
       "        text-align: right;\n",
       "    }\n",
       "</style>\n",
       "<table border=\"1\" class=\"dataframe\">\n",
       "  <thead>\n",
       "    <tr style=\"text-align: right;\">\n",
       "      <th></th>\n",
       "      <th>Date</th>\n",
       "      <th>Open</th>\n",
       "      <th>High</th>\n",
       "      <th>Low</th>\n",
       "      <th>Close</th>\n",
       "      <th>Adj Close</th>\n",
       "      <th>Volume</th>\n",
       "      <th>MA10</th>\n",
       "      <th>MA50</th>\n",
       "      <th>Shares</th>\n",
       "      <th>Close1</th>\n",
       "      <th>Profit</th>\n",
       "    </tr>\n",
       "  </thead>\n",
       "  <tbody>\n",
       "    <tr>\n",
       "      <th>354</th>\n",
       "      <td>2020-05-28</td>\n",
       "      <td>316.769989</td>\n",
       "      <td>323.440002</td>\n",
       "      <td>315.630005</td>\n",
       "      <td>318.250000</td>\n",
       "      <td>318.250000</td>\n",
       "      <td>33390200</td>\n",
       "      <td>315.341003</td>\n",
       "      <td>281.0924</td>\n",
       "      <td>1</td>\n",
       "      <td>317.940002</td>\n",
       "      <td>-0.309998</td>\n",
       "    </tr>\n",
       "    <tr>\n",
       "      <th>355</th>\n",
       "      <td>2020-05-29</td>\n",
       "      <td>319.250000</td>\n",
       "      <td>321.149994</td>\n",
       "      <td>316.470001</td>\n",
       "      <td>317.940002</td>\n",
       "      <td>317.940002</td>\n",
       "      <td>38399500</td>\n",
       "      <td>316.181003</td>\n",
       "      <td>282.5178</td>\n",
       "      <td>1</td>\n",
       "      <td>NaN</td>\n",
       "      <td>NaN</td>\n",
       "    </tr>\n",
       "  </tbody>\n",
       "</table>\n",
       "</div>"
      ],
      "text/plain": [
       "           Date        Open        High         Low       Close   Adj Close  \\\n",
       "354  2020-05-28  316.769989  323.440002  315.630005  318.250000  318.250000   \n",
       "355  2020-05-29  319.250000  321.149994  316.470001  317.940002  317.940002   \n",
       "\n",
       "       Volume        MA10      MA50  Shares      Close1    Profit  \n",
       "354  33390200  315.341003  281.0924       1  317.940002 -0.309998  \n",
       "355  38399500  316.181003  282.5178       1         NaN       NaN  "
      ]
     },
     "execution_count": 15,
     "metadata": {},
     "output_type": "execute_result"
    }
   ],
   "source": [
    "aapl['Close1'] = aapl['Close'].shift(-1)\n",
    "aapl['Profit'] = [aapl.loc[ei, 'Close1'] - aapl.loc[ei, 'Close'] if aapl.loc[ei, 'Shares']==1 else 0 for ei in aapl.index]\n",
    "aapl.tail(2)"
   ]
  },
  {
   "cell_type": "markdown",
   "metadata": {},
   "source": [
    "##### Step 6 : Calculating Wealth\n",
    "    Wealth is cumsum of profit"
   ]
  },
  {
   "cell_type": "code",
   "execution_count": 18,
   "metadata": {},
   "outputs": [
    {
     "data": {
      "text/html": [
       "<div>\n",
       "<style scoped>\n",
       "    .dataframe tbody tr th:only-of-type {\n",
       "        vertical-align: middle;\n",
       "    }\n",
       "\n",
       "    .dataframe tbody tr th {\n",
       "        vertical-align: top;\n",
       "    }\n",
       "\n",
       "    .dataframe thead th {\n",
       "        text-align: right;\n",
       "    }\n",
       "</style>\n",
       "<table border=\"1\" class=\"dataframe\">\n",
       "  <thead>\n",
       "    <tr style=\"text-align: right;\">\n",
       "      <th></th>\n",
       "      <th>Date</th>\n",
       "      <th>Open</th>\n",
       "      <th>High</th>\n",
       "      <th>Low</th>\n",
       "      <th>Close</th>\n",
       "      <th>Adj Close</th>\n",
       "      <th>Volume</th>\n",
       "      <th>MA10</th>\n",
       "      <th>MA50</th>\n",
       "      <th>Shares</th>\n",
       "      <th>Close1</th>\n",
       "      <th>Profit</th>\n",
       "      <th>wealth</th>\n",
       "    </tr>\n",
       "  </thead>\n",
       "  <tbody>\n",
       "    <tr>\n",
       "      <th>353</th>\n",
       "      <td>2020-05-27</td>\n",
       "      <td>316.140015</td>\n",
       "      <td>318.709991</td>\n",
       "      <td>313.089996</td>\n",
       "      <td>318.109985</td>\n",
       "      <td>318.109985</td>\n",
       "      <td>28236300</td>\n",
       "      <td>314.281003</td>\n",
       "      <td>279.7846</td>\n",
       "      <td>1</td>\n",
       "      <td>318.250000</td>\n",
       "      <td>0.140015</td>\n",
       "      <td>107.439972</td>\n",
       "    </tr>\n",
       "    <tr>\n",
       "      <th>354</th>\n",
       "      <td>2020-05-28</td>\n",
       "      <td>316.769989</td>\n",
       "      <td>323.440002</td>\n",
       "      <td>315.630005</td>\n",
       "      <td>318.250000</td>\n",
       "      <td>318.250000</td>\n",
       "      <td>33390200</td>\n",
       "      <td>315.341003</td>\n",
       "      <td>281.0924</td>\n",
       "      <td>1</td>\n",
       "      <td>317.940002</td>\n",
       "      <td>-0.309998</td>\n",
       "      <td>107.129974</td>\n",
       "    </tr>\n",
       "    <tr>\n",
       "      <th>355</th>\n",
       "      <td>2020-05-29</td>\n",
       "      <td>319.250000</td>\n",
       "      <td>321.149994</td>\n",
       "      <td>316.470001</td>\n",
       "      <td>317.940002</td>\n",
       "      <td>317.940002</td>\n",
       "      <td>38399500</td>\n",
       "      <td>316.181003</td>\n",
       "      <td>282.5178</td>\n",
       "      <td>1</td>\n",
       "      <td>NaN</td>\n",
       "      <td>NaN</td>\n",
       "      <td>NaN</td>\n",
       "    </tr>\n",
       "  </tbody>\n",
       "</table>\n",
       "</div>"
      ],
      "text/plain": [
       "           Date        Open        High         Low       Close   Adj Close  \\\n",
       "353  2020-05-27  316.140015  318.709991  313.089996  318.109985  318.109985   \n",
       "354  2020-05-28  316.769989  323.440002  315.630005  318.250000  318.250000   \n",
       "355  2020-05-29  319.250000  321.149994  316.470001  317.940002  317.940002   \n",
       "\n",
       "       Volume        MA10      MA50  Shares      Close1    Profit      wealth  \n",
       "353  28236300  314.281003  279.7846       1  318.250000  0.140015  107.439972  \n",
       "354  33390200  315.341003  281.0924       1  317.940002 -0.309998  107.129974  \n",
       "355  38399500  316.181003  282.5178       1         NaN       NaN         NaN  "
      ]
     },
     "execution_count": 18,
     "metadata": {},
     "output_type": "execute_result"
    }
   ],
   "source": [
    "aapl['wealth'] = aapl['Profit'].cumsum()\n",
    "aapl.tail(3)"
   ]
  },
  {
   "cell_type": "markdown",
   "metadata": {},
   "source": [
    "##### Step 7 : Calculating Buy price and net profit\n",
    "    Note: Approximation: That we bought at the highest price on the day we purchased ! As it's daily price data and we don't know exactly at what price did we bought. So to be at safe side, we consider the highest price of purchase during that day. "
   ]
  },
  {
   "cell_type": "code",
   "execution_count": 27,
   "metadata": {},
   "outputs": [
    {
     "name": "stdout",
     "output_type": "stream",
     "text": [
      "Buy price: $200.6100006103516, Net Profit: $107.12997436523449, Profit Ratio: 53.402%\n"
     ]
    }
   ],
   "source": [
    "buy_price = list(aapl[aapl['Shares'] == 1]['High'])[0]\n",
    "net_profit = aapl.loc[aapl.index[-2], 'wealth']\n",
    "profit_ratio = (net_profit/buy_price) * 100\n",
    "print('Buy price: ${}, Net Profit: ${}, Profit Ratio: {}%'.format(buy_price, net_profit, round(profit_ratio, 3)))\n"
   ]
  },
  {
   "cell_type": "code",
   "execution_count": null,
   "metadata": {},
   "outputs": [],
   "source": []
  }
 ],
 "metadata": {
  "kernelspec": {
   "display_name": "Python 3",
   "language": "python",
   "name": "python3"
  },
  "language_info": {
   "codemirror_mode": {
    "name": "ipython",
    "version": 3
   },
   "file_extension": ".py",
   "mimetype": "text/x-python",
   "name": "python",
   "nbconvert_exporter": "python",
   "pygments_lexer": "ipython3",
   "version": "3.7.7"
  }
 },
 "nbformat": 4,
 "nbformat_minor": 4
}
